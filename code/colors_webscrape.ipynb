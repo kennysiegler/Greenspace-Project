{
 "cells": [
  {
   "cell_type": "code",
   "execution_count": 1,
   "id": "edd36658",
   "metadata": {},
   "outputs": [],
   "source": [
    "from splinter import Browser\n",
    "from bs4 import BeautifulSoup as soup"
   ]
  },
  {
   "cell_type": "code",
   "execution_count": 2,
   "id": "d2a3e369",
   "metadata": {},
   "outputs": [],
   "source": [
    "# Set up Splinter\n",
    "browser = Browser('chrome')"
   ]
  },
  {
   "cell_type": "code",
   "execution_count": 3,
   "id": "fb2ee749",
   "metadata": {},
   "outputs": [],
   "source": [
    "# Visit the color picker to Scrape site\n",
    "url = 'https://hihayk.github.io/scale/#4/6/50/30/-50/84/100/0/FFB100/255/180/0/white'\n",
    "browser.visit(url)"
   ]
  },
  {
   "cell_type": "code",
   "execution_count": 4,
   "id": "9076a9eb",
   "metadata": {},
   "outputs": [],
   "source": [
    "# Parse the HTML\n",
    "html = browser.html\n",
    "html_soup = soup(html, 'html.parser')"
   ]
  },
  {
   "cell_type": "code",
   "execution_count": 20,
   "id": "534ac2dc",
   "metadata": {},
   "outputs": [
    {
     "name": "stdout",
     "output_type": "stream",
     "text": [
      "[<div class=\"ColorBlockCode sc-dnqmqq fwgsuC\">#3C8000</div>, <div class=\"ColorBlockCode sc-dnqmqq fwgsuC\">#6D9F00</div>, <div class=\"ColorBlockCode sc-dnqmqq fwgsuC\">#AABF00</div>, <div class=\"ColorBlockCode sc-dnqmqq fwgsuC\">#DFC900</div>, <div class=\"ColorBlockCode sc-dnqmqq fwgsuC\">#FFB100</div>, <div class=\"ColorBlockCode sc-dnqmqq fwgsuC\">#FF7B0D</div>, <div class=\"ColorBlockCode sc-dnqmqq fwgsuC\">#FF391A</div>, <div class=\"ColorBlockCode sc-dnqmqq fwgsuC\">#FF2626</div>, <div class=\"ColorBlockCode sc-dnqmqq fwgsuC\">#FF3340</div>, <div class=\"ColorBlockCode sc-dnqmqq fwgsuC\">#FF4096</div>, <div class=\"ColorBlockCode sc-dnqmqq fwgsuC\">#FF4DEF</div>]\n",
      "#3C8000\n",
      "#6D9F00\n",
      "#AABF00\n",
      "#DFC900\n",
      "#FFB100\n",
      "#FF7B0D\n",
      "#FF391A\n",
      "#FF2626\n",
      "#FF3340\n",
      "#FF4096\n",
      "#FF4DEF\n"
     ]
    }
   ],
   "source": [
    "# Scrape the heading\n",
    "color\n",
    "colorValues = html_soup.find_all('div', class_=\"ColorBlockCode\")\n",
    "print(colors)\n",
    "\n",
    "for color in colors:\n",
    "    print(color.text)"
   ]
  },
  {
   "cell_type": "code",
   "execution_count": null,
   "id": "e13aafeb",
   "metadata": {},
   "outputs": [],
   "source": []
  }
 ],
 "metadata": {
  "kernelspec": {
   "display_name": "PythonData",
   "language": "python",
   "name": "pythondata"
  },
  "language_info": {
   "codemirror_mode": {
    "name": "ipython",
    "version": 3
   },
   "file_extension": ".py",
   "mimetype": "text/x-python",
   "name": "python",
   "nbconvert_exporter": "python",
   "pygments_lexer": "ipython3",
   "version": "3.10.10"
  }
 },
 "nbformat": 4,
 "nbformat_minor": 5
}
