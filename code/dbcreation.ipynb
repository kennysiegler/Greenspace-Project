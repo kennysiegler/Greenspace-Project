{
 "cells": [
  {
   "cell_type": "markdown",
   "id": "6837ba91",
   "metadata": {},
   "source": [
    "In order to create this database, you'll need to navigate to the Resources folder of this directory and run the prompt: \n",
    "\n",
    "    mongoimport --type json -d met -c healthandgreenspacedata --drop --jsonArray data.json"
   ]
  },
  {
   "cell_type": "code",
   "execution_count": null,
   "id": "47dc2c3b",
   "metadata": {},
   "outputs": [],
   "source": [
    "import pymongo"
   ]
  }
 ],
 "metadata": {
  "kernelspec": {
   "display_name": "Python 3 (ipykernel)",
   "language": "python",
   "name": "python3"
  },
  "language_info": {
   "codemirror_mode": {
    "name": "ipython",
    "version": 3
   },
   "file_extension": ".py",
   "mimetype": "text/x-python",
   "name": "python",
   "nbconvert_exporter": "python",
   "pygments_lexer": "ipython3",
   "version": "3.10.10"
  }
 },
 "nbformat": 4,
 "nbformat_minor": 5
}
